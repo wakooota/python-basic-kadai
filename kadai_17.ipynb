{
  "nbformat": 4,
  "nbformat_minor": 0,
  "metadata": {
    "colab": {
      "provenance": [],
      "authorship_tag": "ABX9TyNL3jYgl5CNWaA8a+AnDgca",
      "include_colab_link": true
    },
    "kernelspec": {
      "name": "python3",
      "display_name": "Python 3"
    },
    "language_info": {
      "name": "python"
    }
  },
  "cells": [
    {
      "cell_type": "markdown",
      "metadata": {
        "id": "view-in-github",
        "colab_type": "text"
      },
      "source": [
        "<a href=\"https://colab.research.google.com/github/wakooota/python-basic-kadai/blob/main/kadai_17.ipynb\" target=\"_parent\"><img src=\"https://colab.research.google.com/assets/colab-badge.svg\" alt=\"Open In Colab\"/></a>"
      ]
    },
    {
      "cell_type": "code",
      "execution_count": 38,
      "metadata": {
        "colab": {
          "base_uri": "https://localhost:8080/",
          "height": 215
        },
        "id": "jF3aVvPJRMNy",
        "outputId": "49299cb3-3c8c-4419-be6f-05e86d3ea682"
      },
      "outputs": [
        {
          "output_type": "error",
          "ename": "NameError",
          "evalue": "ignored",
          "traceback": [
            "\u001b[0;31m---------------------------------------------------------------------------\u001b[0m",
            "\u001b[0;31mNameError\u001b[0m                                 Traceback (most recent call last)",
            "\u001b[0;32m<ipython-input-38-e4ef67f2e904>\u001b[0m in \u001b[0;36m<cell line: 28>\u001b[0;34m()\u001b[0m\n\u001b[1;32m     27\u001b[0m \u001b[0;31m#リストの要素数分だけcheck_adultメソッドを呼び出し\u001b[0m\u001b[0;34m\u001b[0m\u001b[0;34m\u001b[0m\u001b[0m\n\u001b[1;32m     28\u001b[0m \u001b[0;32mfor\u001b[0m \u001b[0mi\u001b[0m \u001b[0;32min\u001b[0m \u001b[0mrange\u001b[0m\u001b[0;34m(\u001b[0m\u001b[0;36m1\u001b[0m\u001b[0;34m,\u001b[0m \u001b[0;36m3\u001b[0m\u001b[0;34m)\u001b[0m\u001b[0;34m:\u001b[0m\u001b[0;34m\u001b[0m\u001b[0;34m\u001b[0m\u001b[0m\n\u001b[0;32m---> 29\u001b[0;31m     \u001b[0mself\u001b[0m\u001b[0;34m.\u001b[0m\u001b[0mcheck_adult\u001b[0m\u001b[0;34m(\u001b[0m\u001b[0;34m)\u001b[0m\u001b[0;34m\u001b[0m\u001b[0;34m\u001b[0m\u001b[0m\n\u001b[0m",
            "\u001b[0;31mNameError\u001b[0m: name 'self' is not defined"
          ]
        }
      ],
      "source": [
        "#名前と年齢の属性を持つHumaクラスを作成\n",
        "class Human:\n",
        "  def __init__(self):\n",
        "    self.name = \"\"\n",
        "    self.age =\"\"\n",
        "\n",
        "#nameとageを登録するメソッド文（定義文）を作成\n",
        "  def set_name_and_age(self, name, age):\n",
        "    self.name = name\n",
        "    self.age = age\n",
        "\n",
        "#\"ageが20以上の場合に大人であること\"、\"そうでない場合に大人でないこと\"を標準出力するメソッド文（定義文）を作成\n",
        "  def check_adult(self):\n",
        "      if self.age >= 20:\n",
        "        print(f\"{self.age}なので大人です。\")\n",
        "      else:\n",
        "        print(f\"{self.age}なので大人ではありません。\")\n",
        "\n",
        "#Humanクラスのインスタンスを複数生成\n",
        "wakabayashi = Human()\n",
        "tanaka = Human()\n",
        "\n",
        "#メソッドにアクセスして、インスタンスにnameとageの情報を追加\n",
        "wakabayashi.set_name_and_age(\"若林\", 30)\n",
        "tanaka.set_name_and_age(\"田中\", 10)\n",
        "\n",
        "#リストの要素数分だけcheck_adultメソッドを呼び出し\n",
        "for i in range(1, 3):\n",
        "    self.check_adult()"
      ]
    }
  ]
}