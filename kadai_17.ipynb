{
  "nbformat": 4,
  "nbformat_minor": 0,
  "metadata": {
    "colab": {
      "provenance": [],
      "authorship_tag": "ABX9TyPyPCoAP68zzpx+8ppRGhdP",
      "include_colab_link": true
    },
    "kernelspec": {
      "name": "python3",
      "display_name": "Python 3"
    },
    "language_info": {
      "name": "python"
    }
  },
  "cells": [
    {
      "cell_type": "markdown",
      "metadata": {
        "id": "view-in-github",
        "colab_type": "text"
      },
      "source": [
        "<a href=\"https://colab.research.google.com/github/wakooota/python-basic-kadai/blob/main/kadai_17.ipynb\" target=\"_parent\"><img src=\"https://colab.research.google.com/assets/colab-badge.svg\" alt=\"Open In Colab\"/></a>"
      ]
    },
    {
      "cell_type": "code",
      "execution_count": null,
      "metadata": {
        "colab": {
          "base_uri": "https://localhost:8080/"
        },
        "id": "jF3aVvPJRMNy",
        "outputId": "25f0e68f-4626-4282-8486-8e96d306ef86"
      },
      "outputs": [
        {
          "output_type": "stream",
          "name": "stdout",
          "text": [
            "30なので大人です。\n"
          ]
        }
      ],
      "source": [
        "#名前と年齢の属性を持つHumaクラスを作成\n",
        "class Human:\n",
        "  def __init__(self):\n",
        "    self.name = \"\"\n",
        "    self.age =\"\"\n",
        "\n",
        "#nameとageを登録するメソッド文（定義文）を作成\n",
        "  def set_name_and_age(self, name, age):\n",
        "    self.name = name\n",
        "    self.age = age\n",
        "\n",
        "#\"ageが20以上の場合に大人であること\"、\"そうでない場合に大人でないこと\"を標準出力するメソッド文（定義文）を作成\n",
        "  def printinfo(self):\n",
        "    if self.age >= 20:\n",
        "      print(f\"{self.age}なので大人です。\")\n",
        "    else:\n",
        "      print(f\"{self.age}なので大人ではありません。\")\n",
        "\n",
        "#インスタンス化する\n",
        "wakabayashi = Human()\n",
        "\n",
        "\n",
        "#メソッドにアクセスして実行する\n",
        "wakabayashi.set_name_and_age(\"若林\", 30)\n",
        "wakabayashi.printinfo()"
      ]
    }
  ]
}