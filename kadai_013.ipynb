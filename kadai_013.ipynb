{
  "nbformat": 4,
  "nbformat_minor": 0,
  "metadata": {
    "colab": {
      "provenance": [],
      "authorship_tag": "ABX9TyO7ig0DHGFwKqkPQuvxgEC+",
      "include_colab_link": true
    },
    "kernelspec": {
      "name": "python3",
      "display_name": "Python 3"
    },
    "language_info": {
      "name": "python"
    }
  },
  "cells": [
    {
      "cell_type": "markdown",
      "metadata": {
        "id": "view-in-github",
        "colab_type": "text"
      },
      "source": [
        "<a href=\"https://colab.research.google.com/github/wakooota/python-basic-kadai/blob/main/kadai_013.ipynb\" target=\"_parent\"><img src=\"https://colab.research.google.com/assets/colab-badge.svg\" alt=\"Open In Colab\"/></a>"
      ]
    },
    {
      "cell_type": "code",
      "execution_count": null,
      "metadata": {
        "colab": {
          "base_uri": "https://localhost:8080/"
        },
        "id": "hjzt0mOf65c8",
        "outputId": "5a121e57-8f9c-43e4-e5b8-8eabe475979b"
      },
      "outputs": [
        {
          "output_type": "stream",
          "name": "stdout",
          "text": [
            "1100.0円\n"
          ]
        }
      ],
      "source": [
        "def calculate_total(price, taxrate):\n",
        "  total = price * (1+taxrate)\n",
        "  print(f\"{total}円\")\n",
        "\n",
        "calculate_total(1000, 0.1)\n"
      ]
    },
    {
      "cell_type": "code",
      "source": [
        "def add_tax(price, tax_rate):\n",
        "  return price *(1 + tax_rate)\n",
        "\n",
        "print(f\"{add_tax(1000, 0.1)}円\")"
      ],
      "metadata": {
        "colab": {
          "base_uri": "https://localhost:8080/"
        },
        "id": "fokwzOZZAQPE",
        "outputId": "0934cd74-fdc6-40d2-c6d2-d1c73bc5cfd1"
      },
      "execution_count": 15,
      "outputs": [
        {
          "output_type": "stream",
          "name": "stdout",
          "text": [
            "1100.0円\n"
          ]
        }
      ]
    }
  ]
}