{
  "nbformat": 4,
  "nbformat_minor": 0,
  "metadata": {
    "colab": {
      "provenance": [],
      "authorship_tag": "ABX9TyOGXCoU3ZM2/RqRykeYgqJw",
      "include_colab_link": true
    },
    "kernelspec": {
      "name": "python3",
      "display_name": "Python 3"
    },
    "language_info": {
      "name": "python"
    }
  },
  "cells": [
    {
      "cell_type": "markdown",
      "metadata": {
        "id": "view-in-github",
        "colab_type": "text"
      },
      "source": [
        "<a href=\"https://colab.research.google.com/github/wakooota/python-basic-kadai/blob/main/kadai_013.ipynb\" target=\"_parent\"><img src=\"https://colab.research.google.com/assets/colab-badge.svg\" alt=\"Open In Colab\"/></a>"
      ]
    },
    {
      "cell_type": "code",
      "execution_count": null,
      "metadata": {
        "colab": {
          "base_uri": "https://localhost:8080/"
        },
        "id": "hjzt0mOf65c8",
        "outputId": "5a121e57-8f9c-43e4-e5b8-8eabe475979b"
      },
      "outputs": [
        {
          "output_type": "stream",
          "name": "stdout",
          "text": [
            "1100.0円\n"
          ]
        }
      ],
      "source": [
        "def calculate_total(price, taxrate):\n",
        "  total = price * (1+taxrate)\n",
        "  print(f\"{total}円\")\n",
        "\n",
        "calculate_total(1000, 0.1)\n"
      ]
    },
    {
      "cell_type": "code",
      "source": [
        "tax_rate = 0.1\n",
        "\n",
        "def add_tax(n):\n",
        "  return n *(1 + tax_rate)\n",
        "\n",
        "print(f\"{add_tax(1000)}円\")"
      ],
      "metadata": {
        "colab": {
          "base_uri": "https://localhost:8080/"
        },
        "id": "fokwzOZZAQPE",
        "outputId": "cafaa588-44ff-4478-956d-068b7d66cead"
      },
      "execution_count": 14,
      "outputs": [
        {
          "output_type": "stream",
          "name": "stdout",
          "text": [
            "1100.0円\n"
          ]
        }
      ]
    }
  ]
}